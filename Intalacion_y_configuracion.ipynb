{
 "cells": [
  {
   "cell_type": "markdown",
   "id": "6c5a5d87",
   "metadata": {},
   "source": [
    "# Instalación y configuración de Anaconda con la instalación de paquetes."
   ]
  },
  {
   "cell_type": "markdown",
   "id": "88a6e800",
   "metadata": {},
   "source": []
  },
  {
   "cell_type": "markdown",
   "id": "de7484d4",
   "metadata": {},
   "source": [
    "![](imag\\img1.png)\n",
    "\n",
    "Como primer paso descargamos el instalador y lo ejecutamos como administrador."
   ]
  },
  {
   "cell_type": "markdown",
   "id": "455adfad",
   "metadata": {},
   "source": [
    "![](imag\\img2.png)\n",
    "\n",
    "Aceptamos la licencia y continuamos."
   ]
  },
  {
   "cell_type": "markdown",
   "id": "cef54772",
   "metadata": {},
   "source": [
    "![](imag\\img3.png)\n",
    "\n",
    "Hay dos opciones para instalar, en mi caso escogí la primera que es la recomendada."
   ]
  },
  {
   "cell_type": "markdown",
   "id": "fc21ff11",
   "metadata": {},
   "source": [
    "![](imag\\img4.png)\n",
    "\n",
    "En este elegimos el destino de donde se va aguardar la instalación, lo el que está por defecto.\n"
   ]
  },
  {
   "cell_type": "markdown",
   "id": "768725b1",
   "metadata": {},
   "source": [
    "![](imag\\img5.png)\n",
    "\n",
    "En este solo le di click en instalar."
   ]
  },
  {
   "cell_type": "markdown",
   "id": "a5039e82",
   "metadata": {},
   "source": [
    "![](imag\\img6.png)\n",
    "\n",
    "Hay que esperar hasta que termine la instalación."
   ]
  },
  {
   "cell_type": "markdown",
   "id": "ce35ca58",
   "metadata": {},
   "source": [
    "![](imag\\img7.png)\n",
    "\n",
    "Y por último finalizamos, y lo abrimos por si lo va a necesitar"
   ]
  },
  {
   "cell_type": "markdown",
   "id": "34c797d8",
   "metadata": {},
   "source": [
    "Con el comando jupyter notebook probamos en la Shell de Anaconda si la instalación es correcta, si lo es nos manda  a la web.\n",
    "\n",
    "![](imag\\img8.png)\n",
    "![](imag\\img9.png)"
   ]
  },
  {
   "cell_type": "markdown",
   "id": "849aaea4",
   "metadata": {},
   "source": [
    "## 2.\tUso de paquetes predeterminados en Jupyter Notebook"
   ]
  },
  {
   "cell_type": "markdown",
   "id": "dcb5c571",
   "metadata": {},
   "source": [
    "### a.\tExplore e investigue que paquetes se integran con la instalación de jupyter Notebook de Anaconda \n",
    "\n",
    "![](imag\\img13.png)"
   ]
  },
  {
   "cell_type": "markdown",
   "id": "a3e754fc",
   "metadata": {},
   "source": [
    "### b.\tEstructura de un cuaderno de jupyter notebook\n",
    "\n",
    "### - ¿Cómo está dividido un cuaderno de jupyter notebook?\n",
    "\n",
    "El cuaderno Jupyter consta de tres componentes.\n",
    "\n",
    "La aplicación web del cuaderno: Para escribir y ejecutar código en un entorno interactivo.\n",
    "\n",
    "Núcleos: Kernel es un motor de cálculo que ejecuta el código de los usuarios presente en el documento del cuaderno en un idioma determinado y devuelve la salida a la aplicación web del cuaderno. El kernel también se ocupa de cálculos para widgets interactivos, introspección y finalización de pestañas.\n",
    "\n",
    "Documentos de cuaderno: Un documento es una representación de todo el contenido visible en la aplicación web del cuaderno. Esto incluye entrada y salida de cálculos, gráficos, texto narrativo, widgets interactivos, ecuaciones, imágenes y video. Hay un kernel separado para cada documento. Los documentos del cuaderno se pueden convertir a varios formatos y compartir entre otros mediante el correo electrónico, Dropbox y herramientas de control de versiones como git.\n",
    "\n"
   ]
  },
  {
   "cell_type": "markdown",
   "id": "65cf3998",
   "metadata": {},
   "source": [
    "### - ¿Cómo ejecutar código?\n",
    "Para ejecutar la celda, necesitamos agregar algo a la celda.\n",
    "La celda puede contener las declaraciones escritas en un lenguaje de programación del kernel actual. Elegimos el kernel cada vez que creamos un nuevo cuaderno. Recuerde que creamos un cuaderno que elegimos Python 3. Eso significa que nuestra celda puede contener un código Python.\n"
   ]
  },
  {
   "cell_type": "markdown",
   "id": "ae58cb5d",
   "metadata": {},
   "source": [
    "### - Exportar a formatos estáticos como Markdown, HTML y PDF\n",
    "\n",
    "![](imag\\img14.png)\n"
   ]
  },
  {
   "cell_type": "markdown",
   "id": "fa93011e",
   "metadata": {},
   "source": [
    "### 3.\tInstalación de paquetes adicionales recomendados \n",
    "### a.\tInstalación de paquetes usando Anaconda\n"
   ]
  },
  {
   "cell_type": "markdown",
   "id": "dfe8a803",
   "metadata": {},
   "source": [
    "![](imag\\img10.png)\n",
    "\n",
    "scikit-learn es una librería de python para Machine Learning y Análisis de Datos. Está basada en NumPy, SciPy y Matplotlib. ... Con scikit-learn podemos realizar aprendizaje supervisado y no supervisado. Podemos usarlo para resolver problemas tanto de clasificación y como de regresión."
   ]
  },
  {
   "cell_type": "markdown",
   "id": "0f6aaa26",
   "metadata": {},
   "source": [
    "![](imag\\img11.png)\n",
    "\n",
    "pandas es una librería para el análisis de datos que cuenta con las estructuras de datos que necesitamos para limpiar los datos en bruto y que sean aptos para el análisis (por ejemplo, tablas)."
   ]
  },
  {
   "cell_type": "markdown",
   "id": "c9378412",
   "metadata": {},
   "source": [
    "![](imag\\img12.png)\n",
    "\n",
    "Numpy es una biblioteca para Python que facilita el trabajo con arrays (vectores y matrices), un tipo de dato estructurado muy utilizado en análisis de datos, en informática científica y en el área del aprendizaje automático (learning machine)."
   ]
  },
  {
   "cell_type": "markdown",
   "id": "319d504a",
   "metadata": {},
   "source": [
    "![](imag\\img15.png)\n",
    "\n",
    "TensorFlow es un sistema de programación que utiliza gráficos para representar tareas informáticas. En este momento, puede ejecutar Python y luego importar tensorflow como tf."
   ]
  },
  {
   "cell_type": "markdown",
   "id": "ea7bb05a",
   "metadata": {},
   "source": [
    "![](imag\\img16.png)\n",
    "\n",
    "PyTorch. Es un paquete de Python diseñado para realizar cálculos numéricos haciendo uso de la programación de tensores. Además, permite su ejecución en GPU para acelerar los cálculos."
   ]
  },
  {
   "cell_type": "markdown",
   "id": "31873f56",
   "metadata": {},
   "source": [
    "### Pruebe instalando cualquier paquete con cada uno de los gestores e investigue la carpeta de instalación.\n",
    "\n",
    "![](imag\\img17.png)\n"
   ]
  }
 ],
 "metadata": {
  "kernelspec": {
   "display_name": "Python 3",
   "language": "python",
   "name": "python3"
  },
  "language_info": {
   "codemirror_mode": {
    "name": "ipython",
    "version": 3
   },
   "file_extension": ".py",
   "mimetype": "text/x-python",
   "name": "python",
   "nbconvert_exporter": "python",
   "pygments_lexer": "ipython3",
   "version": "3.8.8"
  }
 },
 "nbformat": 4,
 "nbformat_minor": 5
}
